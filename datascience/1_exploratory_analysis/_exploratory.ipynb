{
 "cells": [
  {
   "cell_type": "markdown",
   "metadata": {},
   "source": [
    "<h2>Exploratory Data Analysis - Python</h2>"
   ]
  },
  {
   "cell_type": "markdown",
   "metadata": {},
   "source": [
    "This following exploratory data analysis is one of the principal component of Data Science. First of all, the exploratory data analysis help the data scientist / or the data engineer to understand the DATA properly in aspect of: data quality | data exploration | business main characteristics and the data can tell us to help the hypothesis formulation."
   ]
  },
  {
   "cell_type": "markdown",
   "metadata": {},
   "source": [
    "Author: Luciano Nieto    |     Date: 2/1/19"
   ]
  },
  {
   "cell_type": "markdown",
   "metadata": {},
   "source": [
    "<H6> In this example, we will be work on Python BTW it should be developed in many languages."
   ]
  },
  {
   "cell_type": "code",
   "execution_count": 1,
   "metadata": {},
   "outputs": [],
   "source": [
    "#library imports\n",
    "\n",
    "import pandas as pd # our best friend in this journey\n",
    "import numpy as np  \n",
    "import matplotlib.pyplot as plt\n",
    "%matplotlib inline\n",
    "import datetime as dt #use in data quality transformations"
   ]
  },
  {
   "cell_type": "markdown",
   "metadata": {},
   "source": [
    "<h5> show where you are:"
   ]
  },
  {
   "cell_type": "code",
   "execution_count": 3,
   "metadata": {},
   "outputs": [
    {
     "name": "stdout",
     "output_type": "stream",
     "text": [
      " O volume na unidade C não tem nome.\n",
      " O Número de Série do Volume é F0A2-2F70\n",
      "\n",
      " Pasta de C:\\projects\\principal\\datascience\\1_exploratory_analysis\n",
      "\n",
      "05/02/2020  22:07    <DIR>          .\n",
      "05/02/2020  22:07    <DIR>          ..\n",
      "05/02/2020  21:49    <DIR>          .ipynb_checkpoints\n",
      "05/02/2020  22:07            10.519 _exploratory.ipynb\n",
      "05/02/2020  21:49            16.018 Car_sales.csv\n",
      "05/02/2020  21:49                50 source.txt\n",
      "05/02/2020  21:49            10.867 Untitled.ipynb\n",
      "               4 arquivo(s)         37.454 bytes\n",
      "               3 pasta(s)   412.760.805.376 bytes disponíveis\n"
     ]
    }
   ],
   "source": [
    "ls"
   ]
  },
  {
   "cell_type": "code",
   "execution_count": 207,
   "metadata": {},
   "outputs": [],
   "source": [
    "#read the file\n",
    "df = pd.read_csv('Car_Sales.csv')\n",
    "#source: https://www.kaggle.com/gagandeep16/car-sales/data#"
   ]
  },
  {
   "cell_type": "code",
   "execution_count": 16,
   "metadata": {},
   "outputs": [
    {
     "data": {
      "text/plain": [
       "(157, 16)"
      ]
     },
     "execution_count": 16,
     "metadata": {},
     "output_type": "execute_result"
    }
   ],
   "source": [
    "#see the size of your dataframe (lines qty, columns qty)\n",
    "df.shape"
   ]
  },
  {
   "cell_type": "code",
   "execution_count": 20,
   "metadata": {},
   "outputs": [
    {
     "data": {
      "text/html": [
       "<div>\n",
       "<style scoped>\n",
       "    .dataframe tbody tr th:only-of-type {\n",
       "        vertical-align: middle;\n",
       "    }\n",
       "\n",
       "    .dataframe tbody tr th {\n",
       "        vertical-align: top;\n",
       "    }\n",
       "\n",
       "    .dataframe thead th {\n",
       "        text-align: right;\n",
       "    }\n",
       "</style>\n",
       "<table border=\"1\" class=\"dataframe\">\n",
       "  <thead>\n",
       "    <tr style=\"text-align: right;\">\n",
       "      <th></th>\n",
       "      <th>Manufacturer</th>\n",
       "      <th>Model</th>\n",
       "      <th>Sales_in_thousands</th>\n",
       "      <th>__year_resale_value</th>\n",
       "      <th>Vehicle_type</th>\n",
       "      <th>Price_in_thousands</th>\n",
       "      <th>Engine_size</th>\n",
       "      <th>Horsepower</th>\n",
       "      <th>Wheelbase</th>\n",
       "      <th>Width</th>\n",
       "      <th>Length</th>\n",
       "      <th>Curb_weight</th>\n",
       "      <th>Fuel_capacity</th>\n",
       "      <th>Fuel_efficiency</th>\n",
       "      <th>Latest_Launch</th>\n",
       "      <th>Power_perf_factor</th>\n",
       "    </tr>\n",
       "  </thead>\n",
       "  <tbody>\n",
       "    <tr>\n",
       "      <th>0</th>\n",
       "      <td>Acura</td>\n",
       "      <td>Integra</td>\n",
       "      <td>16.919</td>\n",
       "      <td>16.360</td>\n",
       "      <td>Passenger</td>\n",
       "      <td>21.50</td>\n",
       "      <td>1.8</td>\n",
       "      <td>140.0</td>\n",
       "      <td>101.2</td>\n",
       "      <td>67.3</td>\n",
       "      <td>172.4</td>\n",
       "      <td>2.639</td>\n",
       "      <td>13.2</td>\n",
       "      <td>28.0</td>\n",
       "      <td>2/2/2012</td>\n",
       "      <td>58.280150</td>\n",
       "    </tr>\n",
       "    <tr>\n",
       "      <th>1</th>\n",
       "      <td>Acura</td>\n",
       "      <td>TL</td>\n",
       "      <td>39.384</td>\n",
       "      <td>19.875</td>\n",
       "      <td>Passenger</td>\n",
       "      <td>28.40</td>\n",
       "      <td>3.2</td>\n",
       "      <td>225.0</td>\n",
       "      <td>108.1</td>\n",
       "      <td>70.3</td>\n",
       "      <td>192.9</td>\n",
       "      <td>3.517</td>\n",
       "      <td>17.2</td>\n",
       "      <td>25.0</td>\n",
       "      <td>6/3/2011</td>\n",
       "      <td>91.370778</td>\n",
       "    </tr>\n",
       "    <tr>\n",
       "      <th>2</th>\n",
       "      <td>Acura</td>\n",
       "      <td>CL</td>\n",
       "      <td>14.114</td>\n",
       "      <td>18.225</td>\n",
       "      <td>Passenger</td>\n",
       "      <td>NaN</td>\n",
       "      <td>3.2</td>\n",
       "      <td>225.0</td>\n",
       "      <td>106.9</td>\n",
       "      <td>70.6</td>\n",
       "      <td>192.0</td>\n",
       "      <td>3.470</td>\n",
       "      <td>17.2</td>\n",
       "      <td>26.0</td>\n",
       "      <td>1/4/2012</td>\n",
       "      <td>NaN</td>\n",
       "    </tr>\n",
       "    <tr>\n",
       "      <th>3</th>\n",
       "      <td>Acura</td>\n",
       "      <td>RL</td>\n",
       "      <td>8.588</td>\n",
       "      <td>29.725</td>\n",
       "      <td>Passenger</td>\n",
       "      <td>42.00</td>\n",
       "      <td>3.5</td>\n",
       "      <td>210.0</td>\n",
       "      <td>114.6</td>\n",
       "      <td>71.4</td>\n",
       "      <td>196.6</td>\n",
       "      <td>3.850</td>\n",
       "      <td>18.0</td>\n",
       "      <td>22.0</td>\n",
       "      <td>3/10/2011</td>\n",
       "      <td>91.389779</td>\n",
       "    </tr>\n",
       "    <tr>\n",
       "      <th>4</th>\n",
       "      <td>Audi</td>\n",
       "      <td>A4</td>\n",
       "      <td>20.397</td>\n",
       "      <td>22.255</td>\n",
       "      <td>Passenger</td>\n",
       "      <td>23.99</td>\n",
       "      <td>1.8</td>\n",
       "      <td>150.0</td>\n",
       "      <td>102.6</td>\n",
       "      <td>68.2</td>\n",
       "      <td>178.0</td>\n",
       "      <td>2.998</td>\n",
       "      <td>16.4</td>\n",
       "      <td>27.0</td>\n",
       "      <td>10/8/2011</td>\n",
       "      <td>62.777639</td>\n",
       "    </tr>\n",
       "  </tbody>\n",
       "</table>\n",
       "</div>"
      ],
      "text/plain": [
       "  Manufacturer    Model  Sales_in_thousands  __year_resale_value Vehicle_type  \\\n",
       "0        Acura  Integra              16.919               16.360    Passenger   \n",
       "1        Acura       TL              39.384               19.875    Passenger   \n",
       "2        Acura       CL              14.114               18.225    Passenger   \n",
       "3        Acura       RL               8.588               29.725    Passenger   \n",
       "4         Audi       A4              20.397               22.255    Passenger   \n",
       "\n",
       "   Price_in_thousands  Engine_size  Horsepower  Wheelbase  Width  Length  \\\n",
       "0               21.50          1.8       140.0      101.2   67.3   172.4   \n",
       "1               28.40          3.2       225.0      108.1   70.3   192.9   \n",
       "2                 NaN          3.2       225.0      106.9   70.6   192.0   \n",
       "3               42.00          3.5       210.0      114.6   71.4   196.6   \n",
       "4               23.99          1.8       150.0      102.6   68.2   178.0   \n",
       "\n",
       "   Curb_weight  Fuel_capacity  Fuel_efficiency Latest_Launch  \\\n",
       "0        2.639           13.2             28.0      2/2/2012   \n",
       "1        3.517           17.2             25.0      6/3/2011   \n",
       "2        3.470           17.2             26.0      1/4/2012   \n",
       "3        3.850           18.0             22.0     3/10/2011   \n",
       "4        2.998           16.4             27.0     10/8/2011   \n",
       "\n",
       "   Power_perf_factor  \n",
       "0          58.280150  \n",
       "1          91.370778  \n",
       "2                NaN  \n",
       "3          91.389779  \n",
       "4          62.777639  "
      ]
     },
     "execution_count": 20,
     "metadata": {},
     "output_type": "execute_result"
    }
   ],
   "source": [
    "#show first 5 lines of your dataframe\n",
    "df.head(5)"
   ]
  },
  {
   "cell_type": "code",
   "execution_count": 23,
   "metadata": {},
   "outputs": [
    {
     "data": {
      "text/plain": [
       "Manufacturer            0\n",
       "Model                   0\n",
       "Sales_in_thousands      0\n",
       "__year_resale_value    36\n",
       "Vehicle_type            0\n",
       "Price_in_thousands      2\n",
       "Engine_size             1\n",
       "Horsepower              1\n",
       "Wheelbase               1\n",
       "Width                   1\n",
       "Length                  1\n",
       "Curb_weight             2\n",
       "Fuel_capacity           1\n",
       "Fuel_efficiency         3\n",
       "Latest_Launch           0\n",
       "Power_perf_factor       2\n",
       "dtype: int64"
      ]
     },
     "execution_count": 23,
     "metadata": {},
     "output_type": "execute_result"
    }
   ],
   "source": [
    "# Check Null values across the columns (rows qty)\n",
    "df.isna().sum()"
   ]
  },
  {
   "cell_type": "code",
   "execution_count": 85,
   "metadata": {},
   "outputs": [
    {
     "data": {
      "text/plain": [
       "0.2975206611570248"
      ]
     },
     "execution_count": 85,
     "metadata": {},
     "output_type": "execute_result"
    }
   ],
   "source": [
    "#go deep \"__year_reasle_value\"\n",
    "df[\"__year_resale_value\"].isna().sum() / df[\"__year_resale_value\"].count()"
   ]
  },
  {
   "cell_type": "code",
   "execution_count": 199,
   "metadata": {},
   "outputs": [],
   "source": [
    "#fill the blank values\n",
    "#here, we could predict or fill with a value that variable, but its not our scope yet.\n",
    "\n",
    "df = df.fillna(0)"
   ]
  },
  {
   "cell_type": "code",
   "execution_count": 200,
   "metadata": {},
   "outputs": [],
   "source": [
    "#adjusting column names\n",
    "\n",
    "df.columns = df.columns.str.replace('__','')"
   ]
  },
  {
   "cell_type": "code",
   "execution_count": 21,
   "metadata": {},
   "outputs": [
    {
     "data": {
      "text/html": [
       "<div>\n",
       "<style scoped>\n",
       "    .dataframe tbody tr th:only-of-type {\n",
       "        vertical-align: middle;\n",
       "    }\n",
       "\n",
       "    .dataframe tbody tr th {\n",
       "        vertical-align: top;\n",
       "    }\n",
       "\n",
       "    .dataframe thead th {\n",
       "        text-align: right;\n",
       "    }\n",
       "</style>\n",
       "<table border=\"1\" class=\"dataframe\">\n",
       "  <thead>\n",
       "    <tr style=\"text-align: right;\">\n",
       "      <th></th>\n",
       "      <th>Sales_in_thousands</th>\n",
       "      <th>year_resale_value</th>\n",
       "      <th>Price_in_thousands</th>\n",
       "      <th>Engine_size</th>\n",
       "      <th>Horsepower</th>\n",
       "      <th>Wheelbase</th>\n",
       "      <th>Width</th>\n",
       "      <th>Length</th>\n",
       "      <th>Curb_weight</th>\n",
       "      <th>Fuel_capacity</th>\n",
       "      <th>Fuel_efficiency</th>\n",
       "      <th>Power_perf_factor</th>\n",
       "    </tr>\n",
       "  </thead>\n",
       "  <tbody>\n",
       "    <tr>\n",
       "      <th>count</th>\n",
       "      <td>157.000000</td>\n",
       "      <td>157.000000</td>\n",
       "      <td>157.000000</td>\n",
       "      <td>157.000000</td>\n",
       "      <td>157.000000</td>\n",
       "      <td>157.000000</td>\n",
       "      <td>157.000000</td>\n",
       "      <td>157.000000</td>\n",
       "      <td>157.000000</td>\n",
       "      <td>157.000000</td>\n",
       "      <td>157.000000</td>\n",
       "      <td>157.000000</td>\n",
       "    </tr>\n",
       "    <tr>\n",
       "      <th>mean</th>\n",
       "      <td>52.998076</td>\n",
       "      <td>13.928854</td>\n",
       "      <td>27.041828</td>\n",
       "      <td>3.041401</td>\n",
       "      <td>184.764331</td>\n",
       "      <td>106.802548</td>\n",
       "      <td>70.696815</td>\n",
       "      <td>186.150318</td>\n",
       "      <td>3.334994</td>\n",
       "      <td>17.837580</td>\n",
       "      <td>23.388535</td>\n",
       "      <td>76.062144</td>\n",
       "    </tr>\n",
       "    <tr>\n",
       "      <th>std</th>\n",
       "      <td>68.029422</td>\n",
       "      <td>12.609543</td>\n",
       "      <td>14.588537</td>\n",
       "      <td>1.069570</td>\n",
       "      <td>58.434177</td>\n",
       "      <td>11.471894</td>\n",
       "      <td>6.639513</td>\n",
       "      <td>20.070059</td>\n",
       "      <td>0.732713</td>\n",
       "      <td>4.131794</td>\n",
       "      <td>5.358494</td>\n",
       "      <td>26.441984</td>\n",
       "    </tr>\n",
       "    <tr>\n",
       "      <th>min</th>\n",
       "      <td>0.110000</td>\n",
       "      <td>0.000000</td>\n",
       "      <td>0.000000</td>\n",
       "      <td>0.000000</td>\n",
       "      <td>0.000000</td>\n",
       "      <td>0.000000</td>\n",
       "      <td>0.000000</td>\n",
       "      <td>0.000000</td>\n",
       "      <td>0.000000</td>\n",
       "      <td>0.000000</td>\n",
       "      <td>0.000000</td>\n",
       "      <td>0.000000</td>\n",
       "    </tr>\n",
       "    <tr>\n",
       "      <th>25%</th>\n",
       "      <td>14.114000</td>\n",
       "      <td>7.750000</td>\n",
       "      <td>17.885000</td>\n",
       "      <td>2.300000</td>\n",
       "      <td>148.000000</td>\n",
       "      <td>103.000000</td>\n",
       "      <td>68.400000</td>\n",
       "      <td>177.500000</td>\n",
       "      <td>2.958000</td>\n",
       "      <td>15.800000</td>\n",
       "      <td>21.000000</td>\n",
       "      <td>58.758249</td>\n",
       "    </tr>\n",
       "    <tr>\n",
       "      <th>50%</th>\n",
       "      <td>29.450000</td>\n",
       "      <td>13.025000</td>\n",
       "      <td>22.695000</td>\n",
       "      <td>3.000000</td>\n",
       "      <td>175.000000</td>\n",
       "      <td>107.000000</td>\n",
       "      <td>70.500000</td>\n",
       "      <td>187.800000</td>\n",
       "      <td>3.340000</td>\n",
       "      <td>17.200000</td>\n",
       "      <td>24.000000</td>\n",
       "      <td>71.838039</td>\n",
       "    </tr>\n",
       "    <tr>\n",
       "      <th>75%</th>\n",
       "      <td>67.956000</td>\n",
       "      <td>18.140000</td>\n",
       "      <td>31.930000</td>\n",
       "      <td>3.500000</td>\n",
       "      <td>215.000000</td>\n",
       "      <td>112.200000</td>\n",
       "      <td>73.400000</td>\n",
       "      <td>196.100000</td>\n",
       "      <td>3.778000</td>\n",
       "      <td>19.500000</td>\n",
       "      <td>26.000000</td>\n",
       "      <td>89.401935</td>\n",
       "    </tr>\n",
       "    <tr>\n",
       "      <th>max</th>\n",
       "      <td>540.561000</td>\n",
       "      <td>67.550000</td>\n",
       "      <td>85.500000</td>\n",
       "      <td>8.000000</td>\n",
       "      <td>450.000000</td>\n",
       "      <td>138.700000</td>\n",
       "      <td>79.900000</td>\n",
       "      <td>224.500000</td>\n",
       "      <td>5.572000</td>\n",
       "      <td>32.000000</td>\n",
       "      <td>45.000000</td>\n",
       "      <td>188.144323</td>\n",
       "    </tr>\n",
       "  </tbody>\n",
       "</table>\n",
       "</div>"
      ],
      "text/plain": [
       "       Sales_in_thousands  year_resale_value  Price_in_thousands  Engine_size  \\\n",
       "count          157.000000         157.000000          157.000000   157.000000   \n",
       "mean            52.998076          13.928854           27.041828     3.041401   \n",
       "std             68.029422          12.609543           14.588537     1.069570   \n",
       "min              0.110000           0.000000            0.000000     0.000000   \n",
       "25%             14.114000           7.750000           17.885000     2.300000   \n",
       "50%             29.450000          13.025000           22.695000     3.000000   \n",
       "75%             67.956000          18.140000           31.930000     3.500000   \n",
       "max            540.561000          67.550000           85.500000     8.000000   \n",
       "\n",
       "       Horsepower   Wheelbase       Width      Length  Curb_weight  \\\n",
       "count  157.000000  157.000000  157.000000  157.000000   157.000000   \n",
       "mean   184.764331  106.802548   70.696815  186.150318     3.334994   \n",
       "std     58.434177   11.471894    6.639513   20.070059     0.732713   \n",
       "min      0.000000    0.000000    0.000000    0.000000     0.000000   \n",
       "25%    148.000000  103.000000   68.400000  177.500000     2.958000   \n",
       "50%    175.000000  107.000000   70.500000  187.800000     3.340000   \n",
       "75%    215.000000  112.200000   73.400000  196.100000     3.778000   \n",
       "max    450.000000  138.700000   79.900000  224.500000     5.572000   \n",
       "\n",
       "       Fuel_capacity  Fuel_efficiency  Power_perf_factor  \n",
       "count     157.000000       157.000000         157.000000  \n",
       "mean       17.837580        23.388535          76.062144  \n",
       "std         4.131794         5.358494          26.441984  \n",
       "min         0.000000         0.000000           0.000000  \n",
       "25%        15.800000        21.000000          58.758249  \n",
       "50%        17.200000        24.000000          71.838039  \n",
       "75%        19.500000        26.000000          89.401935  \n",
       "max        32.000000        45.000000         188.144323  "
      ]
     },
     "execution_count": 21,
     "metadata": {},
     "output_type": "execute_result"
    }
   ],
   "source": [
    "#describing the dataset\n",
    "\n",
    "df.describe()"
   ]
  },
  {
   "cell_type": "code",
   "execution_count": 24,
   "metadata": {},
   "outputs": [],
   "source": [
    "#add visuals: - import seaborn library =)\n",
    "import seaborn as sns"
   ]
  },
  {
   "cell_type": "code",
   "execution_count": 47,
   "metadata": {},
   "outputs": [
    {
     "data": {
      "image/png": "[encoded data removed]",
      "text/plain": [
       "<Figure size 576x432 with 1 Axes>"
      ]
     },
     "metadata": {},
     "output_type": "display_data"
    }
   ],
   "source": [
    "#calculate distribution accross the measures:\n",
    "\n",
    "x = df[\"Sales_in_thousands\"]\n",
    "fig, ax = plt.subplots(figsize=(8,6))\n",
    "sns.distplot(x,  kde=True, color=\"blue\", bins=15, ax=ax)\n",
    "ax.set_title('Distribution of Sales in Thousands', fontsize= 13)\n",
    "plt.ylabel(\"Density\", fontsize= 12)\n",
    "plt.xlabel(\"Sales in thousands\", fontsize= 12)\n",
    "plt.show()"
   ]
  },
  {
   "cell_type": "code",
   "execution_count": 64,
   "metadata": {},
   "outputs": [
    {
     "data": {
      "text/html": [
       "<div>\n",
       "<style scoped>\n",
       "    .dataframe tbody tr th:only-of-type {\n",
       "        vertical-align: middle;\n",
       "    }\n",
       "\n",
       "    .dataframe tbody tr th {\n",
       "        vertical-align: top;\n",
       "    }\n",
       "\n",
       "    .dataframe thead th {\n",
       "        text-align: right;\n",
       "    }\n",
       "</style>\n",
       "<table border=\"1\" class=\"dataframe\">\n",
       "  <thead>\n",
       "    <tr style=\"text-align: right;\">\n",
       "      <th></th>\n",
       "      <th>Manufacturer</th>\n",
       "      <th>Model</th>\n",
       "      <th>Sales_in_thousands</th>\n",
       "      <th>year_resale_value</th>\n",
       "      <th>Vehicle_type</th>\n",
       "      <th>Price_in_thousands</th>\n",
       "      <th>Engine_size</th>\n",
       "      <th>Horsepower</th>\n",
       "      <th>Wheelbase</th>\n",
       "      <th>Width</th>\n",
       "      <th>Length</th>\n",
       "      <th>Curb_weight</th>\n",
       "      <th>Fuel_capacity</th>\n",
       "      <th>Fuel_efficiency</th>\n",
       "      <th>Latest_Launch</th>\n",
       "      <th>Power_perf_factor</th>\n",
       "    </tr>\n",
       "  </thead>\n",
       "  <tbody>\n",
       "    <tr>\n",
       "      <th>0</th>\n",
       "      <td>Acura</td>\n",
       "      <td>Integra</td>\n",
       "      <td>16.919</td>\n",
       "      <td>16.36</td>\n",
       "      <td>Passenger</td>\n",
       "      <td>21.5</td>\n",
       "      <td>1.8</td>\n",
       "      <td>140.0</td>\n",
       "      <td>101.2</td>\n",
       "      <td>67.3</td>\n",
       "      <td>172.4</td>\n",
       "      <td>2.639</td>\n",
       "      <td>13.2</td>\n",
       "      <td>28.0</td>\n",
       "      <td>2/2/2012</td>\n",
       "      <td>58.28015</td>\n",
       "    </tr>\n",
       "  </tbody>\n",
       "</table>\n",
       "</div>"
      ],
      "text/plain": [
       "  Manufacturer    Model  Sales_in_thousands  year_resale_value Vehicle_type  \\\n",
       "0        Acura  Integra              16.919              16.36    Passenger   \n",
       "\n",
       "   Price_in_thousands  Engine_size  Horsepower  Wheelbase  Width  Length  \\\n",
       "0                21.5          1.8       140.0      101.2   67.3   172.4   \n",
       "\n",
       "   Curb_weight  Fuel_capacity  Fuel_efficiency Latest_Launch  \\\n",
       "0        2.639           13.2             28.0      2/2/2012   \n",
       "\n",
       "   Power_perf_factor  \n",
       "0           58.28015  "
      ]
     },
     "execution_count": 64,
     "metadata": {},
     "output_type": "execute_result"
    }
   ],
   "source": [
    "df.head(1)"
   ]
  },
  {
   "cell_type": "code",
   "execution_count": 226,
   "metadata": {},
   "outputs": [],
   "source": [
    "#grouping by year of launch\n",
    "#extract year in another column\n",
    "\n",
    "#1) extract & convert:\n",
    "\n",
    "df[\"Latest_Launch\"] = df[\"Latest_Launch\"].apply(lambda x: dt.datetime.strptime(x,'%m/%d/%Y'))"
   ]
  },
  {
   "cell_type": "code",
   "execution_count": 227,
   "metadata": {},
   "outputs": [],
   "source": [
    "#2) extract the year and create new column:\n",
    "\n",
    "df[\"Latest_Launch_Year\"] = df[\"Latest_Launch\"].dt.year"
   ]
  },
  {
   "cell_type": "code",
   "execution_count": 89,
   "metadata": {},
   "outputs": [
    {
     "data": {
      "text/html": [
       "<div>\n",
       "<style scoped>\n",
       "    .dataframe tbody tr th:only-of-type {\n",
       "        vertical-align: middle;\n",
       "    }\n",
       "\n",
       "    .dataframe tbody tr th {\n",
       "        vertical-align: top;\n",
       "    }\n",
       "\n",
       "    .dataframe thead th {\n",
       "        text-align: right;\n",
       "    }\n",
       "</style>\n",
       "<table border=\"1\" class=\"dataframe\">\n",
       "  <thead>\n",
       "    <tr style=\"text-align: right;\">\n",
       "      <th></th>\n",
       "      <th>Sales_in_thousands</th>\n",
       "    </tr>\n",
       "    <tr>\n",
       "      <th>Latest_Launch_Year</th>\n",
       "      <th></th>\n",
       "    </tr>\n",
       "  </thead>\n",
       "  <tbody>\n",
       "    <tr>\n",
       "      <th>2008</th>\n",
       "      <td>27.609</td>\n",
       "    </tr>\n",
       "    <tr>\n",
       "      <th>2009</th>\n",
       "      <td>100.635</td>\n",
       "    </tr>\n",
       "    <tr>\n",
       "      <th>2011</th>\n",
       "      <td>3717.405</td>\n",
       "    </tr>\n",
       "    <tr>\n",
       "      <th>2012</th>\n",
       "      <td>4475.049</td>\n",
       "    </tr>\n",
       "  </tbody>\n",
       "</table>\n",
       "</div>"
      ],
      "text/plain": [
       "                    Sales_in_thousands\n",
       "Latest_Launch_Year                    \n",
       "2008                            27.609\n",
       "2009                           100.635\n",
       "2011                          3717.405\n",
       "2012                          4475.049"
      ]
     },
     "execution_count": 89,
     "metadata": {},
     "output_type": "execute_result"
    }
   ],
   "source": [
    "#3) Grouping & Show\n",
    "\n",
    "df.groupby(\"Latest_Launch_Year\").agg({\"Sales_in_thousands\" : 'sum'})"
   ]
  },
  {
   "cell_type": "code",
   "execution_count": 113,
   "metadata": {},
   "outputs": [
    {
     "data": {
      "image/png": "[encoded data removed]",
      "text/plain": [
       "<Figure size 576x432 with 1 Axes>"
      ]
     },
     "metadata": {},
     "output_type": "display_data"
    }
   ],
   "source": [
    "# go deeply in 2012:\n",
    "#filter & show:\n",
    "\n",
    "d = df[df[\"Latest_Launch_Year\"]==2012][\"Sales_in_thousands\"]\n",
    "\n",
    "fig, ax = plt.subplots(figsize=(8,6))\n",
    "sns.boxplot(d,  color=\"green\", ax=ax)\n",
    "ax.set_title('Distribution of Sales in Thousands', fontsize= 13)\n",
    "plt.ylabel(\"Density\", fontsize= 12)\n",
    "plt.xlabel(\"Sales in thousands\", fontsize= 12)\n",
    "plt.show()"
   ]
  },
  {
   "cell_type": "code",
   "execution_count": 232,
   "metadata": {},
   "outputs": [
    {
     "data": {
      "image/png": "[encoded data removed]",
      "text/plain": [
       "<Figure size 576x432 with 1 Axes>"
      ]
     },
     "metadata": {},
     "output_type": "display_data"
    }
   ],
   "source": [
    "#year comparison\n",
    "x = df[[\"Latest_Launch_Year\",\"Sales_in_thousands\"]]\n",
    "\n",
    "fig, ax = plt.subplots(figsize=(8,6))\n",
    "sns.boxplot(x = 'Latest_Launch_Year',y='Sales_in_thousands',palette = \"husl\", saturation= 12, data=x , ax=ax)\n",
    "ax.set_title('Distribution of Sales in Thousands', fontsize= 13)\n",
    "plt.ylabel(\"Sales in thousands\", fontsize= 12)\n",
    "plt.xlabel(\"Latest Year of Launch\", fontsize= 12)\n",
    "plt.show()"
   ]
  },
  {
   "cell_type": "code",
   "execution_count": 208,
   "metadata": {},
   "outputs": [],
   "source": [
    "#get and compare the top 10 manufacturers sales:\n",
    "\n",
    "rank = df.groupby(\"Manufacturer\")[\"Sales_in_thousands\"].sum().rank(ascending=False).to_frame().rename(columns={\"Sales_in_thousands\" : 'Rank'})\n",
    "\n",
    "#add rank column:\n",
    "df = df.set_index('Manufacturer').join(rank, on = 'Manufacturer')"
   ]
  },
  {
   "cell_type": "code",
   "execution_count": 223,
   "metadata": {},
   "outputs": [
    {
     "data": {
      "image/png": "[encoded data removed]",
      "text/plain": [
       "<Figure size 1080x576 with 1 Axes>"
      ]
     },
     "metadata": {},
     "output_type": "display_data"
    }
   ],
   "source": [
    "# boxplot Top 10 Manufacturers.\n",
    "\n",
    "x = df[df[\"Rank\"]<=10][[\"Sales_in_thousands\"]].reset_index()\n",
    "\n",
    "\n",
    "fig, ax = plt.subplots(figsize=(15,8))\n",
    "sns.boxplot(x = 'Manufacturer',y='Sales_in_thousands',palette = \"husl\", saturation= 12, data=x , ax=ax)\n",
    "ax.set_title('Distribution of Sales in Thousands', fontsize= 13)\n",
    "plt.ylabel(\"Sales in thousands\", fontsize= 12)\n",
    "plt.xlabel(\"Manufacturer\", fontsize= 12)\n",
    "plt.show()"
   ]
  },
  {
   "cell_type": "code",
   "execution_count": 241,
   "metadata": {},
   "outputs": [
    {
     "data": {
      "text/html": [
       "<div>\n",
       "<style scoped>\n",
       "    .dataframe tbody tr th:only-of-type {\n",
       "        vertical-align: middle;\n",
       "    }\n",
       "\n",
       "    .dataframe tbody tr th {\n",
       "        vertical-align: top;\n",
       "    }\n",
       "\n",
       "    .dataframe thead th {\n",
       "        text-align: right;\n",
       "    }\n",
       "</style>\n",
       "<table border=\"1\" class=\"dataframe\">\n",
       "  <thead>\n",
       "    <tr style=\"text-align: right;\">\n",
       "      <th></th>\n",
       "      <th>Engine_size</th>\n",
       "      <th>Horsepower</th>\n",
       "      <th>Wheelbase</th>\n",
       "      <th>Width</th>\n",
       "      <th>Length</th>\n",
       "      <th>Curb_weight</th>\n",
       "      <th>Fuel_capacity</th>\n",
       "      <th>Fuel_efficiency</th>\n",
       "      <th>Power_perf_factor</th>\n",
       "    </tr>\n",
       "  </thead>\n",
       "  <tbody>\n",
       "    <tr>\n",
       "      <th>Engine_size</th>\n",
       "      <td>1.000000</td>\n",
       "      <td>0.837360</td>\n",
       "      <td>0.472130</td>\n",
       "      <td>0.690398</td>\n",
       "      <td>0.541424</td>\n",
       "      <td>0.760043</td>\n",
       "      <td>0.663022</td>\n",
       "      <td>-0.734622</td>\n",
       "      <td>0.818528</td>\n",
       "    </tr>\n",
       "    <tr>\n",
       "      <th>Horsepower</th>\n",
       "      <td>0.837360</td>\n",
       "      <td>1.000000</td>\n",
       "      <td>0.286308</td>\n",
       "      <td>0.539158</td>\n",
       "      <td>0.393364</td>\n",
       "      <td>0.610131</td>\n",
       "      <td>0.499907</td>\n",
       "      <td>-0.611332</td>\n",
       "      <td>0.992994</td>\n",
       "    </tr>\n",
       "    <tr>\n",
       "      <th>Wheelbase</th>\n",
       "      <td>0.472130</td>\n",
       "      <td>0.286308</td>\n",
       "      <td>1.000000</td>\n",
       "      <td>0.683135</td>\n",
       "      <td>0.839639</td>\n",
       "      <td>0.651016</td>\n",
       "      <td>0.654044</td>\n",
       "      <td>-0.497931</td>\n",
       "      <td>0.258852</td>\n",
       "    </tr>\n",
       "    <tr>\n",
       "      <th>Width</th>\n",
       "      <td>0.690398</td>\n",
       "      <td>0.539158</td>\n",
       "      <td>0.683135</td>\n",
       "      <td>1.000000</td>\n",
       "      <td>0.710435</td>\n",
       "      <td>0.720927</td>\n",
       "      <td>0.656302</td>\n",
       "      <td>-0.602546</td>\n",
       "      <td>0.512025</td>\n",
       "    </tr>\n",
       "    <tr>\n",
       "      <th>Length</th>\n",
       "      <td>0.541424</td>\n",
       "      <td>0.393364</td>\n",
       "      <td>0.839639</td>\n",
       "      <td>0.710435</td>\n",
       "      <td>1.000000</td>\n",
       "      <td>0.627163</td>\n",
       "      <td>0.563540</td>\n",
       "      <td>-0.446756</td>\n",
       "      <td>0.354095</td>\n",
       "    </tr>\n",
       "    <tr>\n",
       "      <th>Curb_weight</th>\n",
       "      <td>0.760043</td>\n",
       "      <td>0.610131</td>\n",
       "      <td>0.651016</td>\n",
       "      <td>0.720927</td>\n",
       "      <td>0.627163</td>\n",
       "      <td>1.000000</td>\n",
       "      <td>0.863968</td>\n",
       "      <td>-0.818402</td>\n",
       "      <td>0.612071</td>\n",
       "    </tr>\n",
       "    <tr>\n",
       "      <th>Fuel_capacity</th>\n",
       "      <td>0.663022</td>\n",
       "      <td>0.499907</td>\n",
       "      <td>0.654044</td>\n",
       "      <td>0.656302</td>\n",
       "      <td>0.563540</td>\n",
       "      <td>0.863968</td>\n",
       "      <td>1.000000</td>\n",
       "      <td>-0.801512</td>\n",
       "      <td>0.501184</td>\n",
       "    </tr>\n",
       "    <tr>\n",
       "      <th>Fuel_efficiency</th>\n",
       "      <td>-0.734622</td>\n",
       "      <td>-0.611332</td>\n",
       "      <td>-0.497931</td>\n",
       "      <td>-0.602546</td>\n",
       "      <td>-0.446756</td>\n",
       "      <td>-0.818402</td>\n",
       "      <td>-0.801512</td>\n",
       "      <td>1.000000</td>\n",
       "      <td>-0.607495</td>\n",
       "    </tr>\n",
       "    <tr>\n",
       "      <th>Power_perf_factor</th>\n",
       "      <td>0.818528</td>\n",
       "      <td>0.992994</td>\n",
       "      <td>0.258852</td>\n",
       "      <td>0.512025</td>\n",
       "      <td>0.354095</td>\n",
       "      <td>0.612071</td>\n",
       "      <td>0.501184</td>\n",
       "      <td>-0.607495</td>\n",
       "      <td>1.000000</td>\n",
       "    </tr>\n",
       "  </tbody>\n",
       "</table>\n",
       "</div>"
      ],
      "text/plain": [
       "                   Engine_size  Horsepower  Wheelbase     Width    Length  \\\n",
       "Engine_size           1.000000    0.837360   0.472130  0.690398  0.541424   \n",
       "Horsepower            0.837360    1.000000   0.286308  0.539158  0.393364   \n",
       "Wheelbase             0.472130    0.286308   1.000000  0.683135  0.839639   \n",
       "Width                 0.690398    0.539158   0.683135  1.000000  0.710435   \n",
       "Length                0.541424    0.393364   0.839639  0.710435  1.000000   \n",
       "Curb_weight           0.760043    0.610131   0.651016  0.720927  0.627163   \n",
       "Fuel_capacity         0.663022    0.499907   0.654044  0.656302  0.563540   \n",
       "Fuel_efficiency      -0.734622   -0.611332  -0.497931 -0.602546 -0.446756   \n",
       "Power_perf_factor     0.818528    0.992994   0.258852  0.512025  0.354095   \n",
       "\n",
       "                   Curb_weight  Fuel_capacity  Fuel_efficiency  \\\n",
       "Engine_size           0.760043       0.663022        -0.734622   \n",
       "Horsepower            0.610131       0.499907        -0.611332   \n",
       "Wheelbase             0.651016       0.654044        -0.497931   \n",
       "Width                 0.720927       0.656302        -0.602546   \n",
       "Length                0.627163       0.563540        -0.446756   \n",
       "Curb_weight           1.000000       0.863968        -0.818402   \n",
       "Fuel_capacity         0.863968       1.000000        -0.801512   \n",
       "Fuel_efficiency      -0.818402      -0.801512         1.000000   \n",
       "Power_perf_factor     0.612071       0.501184        -0.607495   \n",
       "\n",
       "                   Power_perf_factor  \n",
       "Engine_size                 0.818528  \n",
       "Horsepower                  0.992994  \n",
       "Wheelbase                   0.258852  \n",
       "Width                       0.512025  \n",
       "Length                      0.354095  \n",
       "Curb_weight                 0.612071  \n",
       "Fuel_capacity               0.501184  \n",
       "Fuel_efficiency            -0.607495  \n",
       "Power_perf_factor           1.000000  "
      ]
     },
     "execution_count": 241,
     "metadata": {},
     "output_type": "execute_result"
    }
   ],
   "source": [
    "#Descriptive Analysis:\n",
    "\n",
    "#select descriptive variables from dataset:\n",
    "desc = [\"Engine_size\",\"Horsepower\",\"Wheelbase\",\"Width\",\"Length\",\"Curb_weight\",\"Fuel_capacity\",\"Fuel_efficiency\",\"Power_perf_factor\"]\n",
    "\n",
    "#in this part, we can see the correlation between that variables:\n",
    "df[desc].corr(method=\"pearson\")"
   ]
  },
  {
   "cell_type": "code",
   "execution_count": 258,
   "metadata": {},
   "outputs": [
    {
     "data": {
      "image/png": "[encoded data removed]",
      "text/plain": [
       "<Figure size 1080x576 with 2 Axes>"
      ]
     },
     "metadata": {},
     "output_type": "display_data"
    }
   ],
   "source": [
    "#see the correlation in a heatmap:\n",
    "corr = df[desc].corr(method=\"pearson\")\n",
    "\n",
    "\n",
    "fig, ax = plt.subplots(figsize=(15,8))\n",
    "sns.heatmap(corr,vmin=-1, annot=True,cmap=\"Blues_r\", vmax=1, ax=ax)\n",
    "ax.set_title('Correlation between Descriptive variables (Pearson)', fontsize= 15)\n",
    "plt.show()\n",
    "\n",
    "#possible cmap = Accent, Accent_r, Blues, Blues_r, BrBG, BrBG_r, BuGn, BuGn_r, BuPu, BuPu_r, CMRmap, CMRmap_r, Dark2, Dark2_r, GnBu, GnBu_r, Greens, Greens_r, Greys, Greys_r, OrRd, OrRd_r, Oranges, Oranges_r, PRGn, PRGn_r, Paired, Paired_r, Pastel1, Pastel1_r, Pastel2, Pastel2_r, PiYG, PiYG_r, PuBu, PuBuGn, PuBuGn_r, PuBu_r, PuOr, PuOr_r, PuRd, PuRd_r, Purples, Purples_r, RdBu, RdBu_r, RdGy, RdGy_r, RdPu, RdPu_r, RdYlBu, RdYlBu_r, RdYlGn, RdYlGn_r, Reds, Reds_r, Set1, Set1_r, Set2, Set2_r, Set3, Set3_r, Spectral, Spectral_r, Wistia, Wistia_r, YlGn, YlGnBu, YlGnBu_r, YlGn_r, YlOrBr, YlOrBr_r, YlOrRd, YlOrRd_r, afmhot, afmhot_r, autumn, autumn_r, binary, binary_r, bone, bone_r, brg, brg_r, bwr, bwr_r, cividis, cividis_r, cool, cool_r, coolwarm, coolwarm_r, copper, copper_r, cubehelix, cubehelix_r, flag, flag_r, gist_earth, gist_earth_r, gist_gray, gist_gray_r, gist_heat, gist_heat_r, gist_ncar, gist_ncar_r, gist_rainbow, gist_rainbow_r, gist_stern, gist_stern_r, gist_yarg, gist_yarg_r, gnuplot, gnuplot2, gnuplot2_r, gnuplot_r, gray, gray_r, hot, hot_r, hsv, hsv_r, icefire, icefire_r, inferno, inferno_r, jet, jet_r, magma, magma_r, mako, mako_r, nipy_spectral, nipy_spectral_r, ocean, ocean_r, pink, pink_r, plasma, plasma_r, prism, prism_r, rainbow, rainbow_r, rocket, rocket_r, seismic, seismic_r, spring, spring_r, summer, summer_r, tab10, tab10_r, tab20, tab20_r, tab20b, tab20b_r, tab20c, tab20c_r, terrain, terrain_r, twilight, twilight_r, twilight_shifted, twilight_shifted_r, viridis, viridis_r, vlag, vlag_r, winter, winter_r"
   ]
  },
  {
   "cell_type": "code",
   "execution_count": 260,
   "metadata": {},
   "outputs": [
    {
     "data": {
      "image/png": "[encoded data removed]",
      "text/plain": [
       "<Figure size 720x504 with 1 Axes>"
      ]
     },
     "metadata": {},
     "output_type": "display_data"
    }
   ],
   "source": [
    "#lets go deeply:\n",
    "\n",
    "#E.G. of strong pearson relationship.\n",
    "\n",
    "x = df[[\"Fuel_capacity\",\"Curb_weight\"]]\n",
    "\n",
    "# correlation between “Fuel_capacity” and ”Curb_weight”\n",
    "\n",
    "fig, ax = plt.subplots(figsize=(10,7))\n",
    "sns.scatterplot(x=\"Fuel_capacity\", y=\"Curb_weight\", data=x)\n",
    "ax.set_title('Scatter Plot', fontsize= 15)\n",
    "plt.show()"
   ]
  },
  {
   "cell_type": "code",
   "execution_count": 261,
   "metadata": {},
   "outputs": [
    {
     "data": {
      "text/plain": [
       "['Engine_size',\n",
       " 'Horsepower',\n",
       " 'Wheelbase',\n",
       " 'Width',\n",
       " 'Length',\n",
       " 'Curb_weight',\n",
       " 'Fuel_capacity',\n",
       " 'Fuel_efficiency',\n",
       " 'Power_perf_factor']"
      ]
     },
     "execution_count": 261,
     "metadata": {},
     "output_type": "execute_result"
    }
   ],
   "source": [
    "desc"
   ]
  },
  {
   "cell_type": "code",
   "execution_count": 263,
   "metadata": {},
   "outputs": [
    {
     "data": {
      "image/png": "[encoded data removed]",
      "text/plain": [
       "<Figure size 720x504 with 1 Axes>"
      ]
     },
     "metadata": {},
     "output_type": "display_data"
    }
   ],
   "source": [
    "#E.G. of WEAK pearson relationship.\n",
    "\n",
    "x = df[[\"Power_perf_factor\",\"Length\"]]\n",
    "\n",
    "# correlation between “Fuel_capacity” and ”Curb_weight”\n",
    "\n",
    "fig, ax = plt.subplots(figsize=(10,7))\n",
    "sns.scatterplot(x=\"Power_perf_factor\", color=\"green\",y=\"Length\", data=x)\n",
    "ax.set_title('Scatter Plot', fontsize= 15)\n",
    "plt.show()"
   ]
  }
 ],
 "metadata": {
  "kernelspec": {
   "display_name": "Python 3",
   "language": "python",
   "name": "python3"
  },
  "language_info": {
   "codemirror_mode": {
    "name": "ipython",
    "version": 3
   },
   "file_extension": ".py",
   "mimetype": "text/x-python",
   "name": "python",
   "nbconvert_exporter": "python",
   "pygments_lexer": "ipython3",
   "version": "3.7.3"
  }
 },
 "nbformat": 4,
 "nbformat_minor": 2
}
